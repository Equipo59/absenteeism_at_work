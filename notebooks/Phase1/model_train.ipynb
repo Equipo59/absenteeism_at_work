{
  "cells": [
    {
      "cell_type": "code",
      "execution_count": 1,
      "id": "eZmeSvZm3J3e",
      "metadata": {
        "id": "eZmeSvZm3J3e"
      },
      "outputs": [],
      "source": [
        "!pip install -q numpy pandas scikit-learn lightgbm catboost joblib mlflow"
      ]
    },
    {
      "cell_type": "code",
      "execution_count": 2,
      "id": "S9S34czi1jZQ",
      "metadata": {
        "id": "S9S34czi1jZQ"
      },
      "outputs": [],
      "source": [
        "# 1) === CONFIGURACIÓN DE ENTORNO ===> Imports y utilidades\n",
        "import os, sys, json\n",
        "from pathlib import Path\n",
        "import numpy as np\n",
        "import pandas as pd\n",
        "import matplotlib.pyplot as plt\n",
        "import seaborn as sns\n",
        "\n",
        "from sklearn.model_selection import train_test_split, RandomizedSearchCV, cross_val_score\n",
        "from sklearn.preprocessing import OneHotEncoder, StandardScaler\n",
        "from sklearn.compose import ColumnTransformer\n",
        "from sklearn.pipeline import Pipeline\n",
        "from sklearn.metrics import mean_absolute_error, mean_squared_error, r2_score\n",
        "from sklearn.ensemble import RandomForestRegressor\n",
        "from lightgbm import LGBMRegressor\n",
        "from catboost import CatBoostRegressor\n",
        "import joblib\n",
        "\n"
      ]
    },
    {
      "cell_type": "code",
      "execution_count": 3,
      "id": "75a29399",
      "metadata": {},
      "outputs": [
        {
          "name": "stdout",
          "output_type": "stream",
          "text": [
            "Conectado a MLflow existente en: file:///C:/Users/eduar/operaciones-de-aprendizaje-automatico-equipo59/scripts/mlruns\n"
          ]
        }
      ],
      "source": [
        "try:\n",
        "    import mlflow\n",
        "    import mlflow.sklearn\n",
        "    import os\n",
        "    from pathlib import Path\n",
        "\n",
        "\n",
        "    tracking_path = Path(\"mlruns\").resolve()\n",
        "    mlflow.set_tracking_uri(f\"file:///{tracking_path}\".replace(\"\\\\\", \"/\"))\n",
        "    mlflow.set_experiment(\"MLflow_Quickstart\")\n",
        "\n",
        "    MLflow_AVAILABLE = True\n",
        "    print(f\"Conectado a MLflow existente en: {mlflow.get_tracking_uri()}\")\n",
        "\n",
        "except Exception as e:\n",
        "    MLflow_AVAILABLE = False\n",
        "    print(\"MLflow no disponible o no se pudo conectar:\", e)\n",
        "\n",
        "\n",
        "\n",
        "def safe_rmse(y_true, y_pred):\n",
        "    \"\"\"Calcula RMSE con manejo de errores.\"\"\"\n",
        "    try:\n",
        "        return mean_squared_error(y_true, y_pred, squared=False)\n",
        "    except TypeError:\n",
        "        return np.sqrt(mean_squared_error(y_true, y_pred))\n",
        "\n",
        "\n",
        "def evaluate_regression(y_true, y_pred, model_name=\"Modelo\"):\n",
        "    \"\"\"\n",
        "    Calcula MAE, RMSE y R², y registra las métricas en MLflow\n",
        "    si está conectado y hay un run activo.\n",
        "    \"\"\"\n",
        "    mae = mean_absolute_error(y_true, y_pred)\n",
        "    rmse = safe_rmse(y_true, y_pred)\n",
        "    r2 = r2_score(y_true, y_pred)\n",
        "\n",
        "    metrics = {\"MAE\": mae, \"RMSE\": rmse, \"R2\": r2}\n",
        "    print(f\"{model_name} -> MAE: {mae:.3f} | RMSE: {rmse:.3f} | R²: {r2:.3f}\")\n",
        "\n",
        "\n",
        "    if MLflow_AVAILABLE:\n",
        "        try:\n",
        "            with mlflow.start_run(run_name=model_name):\n",
        "                mlflow.log_metrics(metrics)\n",
        "            print(f\" Métricas registradas en MLflow bajo el run '{model_name}'.\")\n",
        "        except Exception as e:\n",
        "            print(\"No se pudieron registrar métricas en MLflow:\", e)\n",
        "\n",
        "    return metrics\n",
        "\n",
        "\n",
        "def print_eval(name, m):\n",
        "    \"\"\"Imprime las métricas en formato legible.\"\"\"\n",
        "    print(f\"{name} -> MAE: {m['MAE']:.3f} | RMSE: {m['RMSE']:.3f} | R²: {m['R2']:.3f}\")\n",
        "\n"
      ]
    },
    {
      "cell_type": "code",
      "execution_count": 4,
      "id": "uuwpFPgO1jZR",
      "metadata": {
        "colab": {
          "base_uri": "https://localhost:8080/",
          "height": 328
        },
        "id": "uuwpFPgO1jZR",
        "outputId": "24a339df-34b9-42b4-ad41-6a8b026a3507"
      },
      "outputs": [
        {
          "name": "stdout",
          "output_type": "stream",
          "text": [
            "BASE_DIR: .\n",
            "MODELS_DIR: models\n",
            "MLRUNS_DIR: mlruns\n",
            "Cargado desde ruta local: ..\\AbsenteeismAtWork\\data\\work_absenteeism_clean.csv\n",
            "Dimensiones: (754, 20)\n"
          ]
        },
        {
          "data": {
            "application/vnd.microsoft.datawrangler.viewer.v0+json": {
              "columns": [
                {
                  "name": "index",
                  "rawType": "int64",
                  "type": "integer"
                },
                {
                  "name": "Reason for absence",
                  "rawType": "int64",
                  "type": "integer"
                },
                {
                  "name": "Month of absence",
                  "rawType": "int64",
                  "type": "integer"
                },
                {
                  "name": "Day of the week",
                  "rawType": "int64",
                  "type": "integer"
                },
                {
                  "name": "Seasons",
                  "rawType": "int64",
                  "type": "integer"
                },
                {
                  "name": "Transportation expense",
                  "rawType": "int64",
                  "type": "integer"
                },
                {
                  "name": "Distance from Residence to Work",
                  "rawType": "int64",
                  "type": "integer"
                },
                {
                  "name": "Service time",
                  "rawType": "int64",
                  "type": "integer"
                },
                {
                  "name": "Age",
                  "rawType": "int64",
                  "type": "integer"
                },
                {
                  "name": "Work load Average/day",
                  "rawType": "int64",
                  "type": "integer"
                },
                {
                  "name": "Hit target",
                  "rawType": "int64",
                  "type": "integer"
                },
                {
                  "name": "Disciplinary failure",
                  "rawType": "int64",
                  "type": "integer"
                },
                {
                  "name": "Education",
                  "rawType": "int64",
                  "type": "integer"
                },
                {
                  "name": "Son",
                  "rawType": "int64",
                  "type": "integer"
                },
                {
                  "name": "Social drinker",
                  "rawType": "int64",
                  "type": "integer"
                },
                {
                  "name": "Social smoker",
                  "rawType": "int64",
                  "type": "integer"
                },
                {
                  "name": "Pet",
                  "rawType": "int64",
                  "type": "integer"
                },
                {
                  "name": "Weight",
                  "rawType": "int64",
                  "type": "integer"
                },
                {
                  "name": "Height",
                  "rawType": "int64",
                  "type": "integer"
                },
                {
                  "name": "Body mass index",
                  "rawType": "int64",
                  "type": "integer"
                },
                {
                  "name": "Absenteeism time in hours",
                  "rawType": "int64",
                  "type": "integer"
                }
              ],
              "ref": "5843b9e0-1cff-47ec-9e68-981989c3ece2",
              "rows": [
                [
                  "0",
                  "26",
                  "7",
                  "3",
                  "1",
                  "289",
                  "36",
                  "13",
                  "33",
                  "240",
                  "97",
                  "0",
                  "1",
                  "2",
                  "1",
                  "0",
                  "1",
                  "90",
                  "172",
                  "30",
                  "4"
                ],
                [
                  "1",
                  "0",
                  "7",
                  "3",
                  "1",
                  "118",
                  "13",
                  "18",
                  "50",
                  "240",
                  "97",
                  "1",
                  "1",
                  "1",
                  "1",
                  "0",
                  "0",
                  "98",
                  "176",
                  "31",
                  "0"
                ],
                [
                  "2",
                  "23",
                  "7",
                  "4",
                  "1",
                  "179",
                  "51",
                  "18",
                  "38",
                  "240",
                  "97",
                  "0",
                  "1",
                  "0",
                  "1",
                  "0",
                  "0",
                  "89",
                  "170",
                  "31",
                  "2"
                ],
                [
                  "3",
                  "7",
                  "7",
                  "5",
                  "1",
                  "279",
                  "5",
                  "14",
                  "39",
                  "240",
                  "97",
                  "0",
                  "1",
                  "2",
                  "1",
                  "1",
                  "0",
                  "68",
                  "168",
                  "24",
                  "4"
                ],
                [
                  "4",
                  "23",
                  "7",
                  "2",
                  "1",
                  "289",
                  "36",
                  "13",
                  "33",
                  "240",
                  "97",
                  "0",
                  "1",
                  "2",
                  "1",
                  "0",
                  "1",
                  "90",
                  "172",
                  "30",
                  "2"
                ]
              ],
              "shape": {
                "columns": 20,
                "rows": 5
              }
            },
            "text/html": [
              "<div>\n",
              "<style scoped>\n",
              "    .dataframe tbody tr th:only-of-type {\n",
              "        vertical-align: middle;\n",
              "    }\n",
              "\n",
              "    .dataframe tbody tr th {\n",
              "        vertical-align: top;\n",
              "    }\n",
              "\n",
              "    .dataframe thead th {\n",
              "        text-align: right;\n",
              "    }\n",
              "</style>\n",
              "<table border=\"1\" class=\"dataframe\">\n",
              "  <thead>\n",
              "    <tr style=\"text-align: right;\">\n",
              "      <th></th>\n",
              "      <th>Reason for absence</th>\n",
              "      <th>Month of absence</th>\n",
              "      <th>Day of the week</th>\n",
              "      <th>Seasons</th>\n",
              "      <th>Transportation expense</th>\n",
              "      <th>Distance from Residence to Work</th>\n",
              "      <th>Service time</th>\n",
              "      <th>Age</th>\n",
              "      <th>Work load Average/day</th>\n",
              "      <th>Hit target</th>\n",
              "      <th>Disciplinary failure</th>\n",
              "      <th>Education</th>\n",
              "      <th>Son</th>\n",
              "      <th>Social drinker</th>\n",
              "      <th>Social smoker</th>\n",
              "      <th>Pet</th>\n",
              "      <th>Weight</th>\n",
              "      <th>Height</th>\n",
              "      <th>Body mass index</th>\n",
              "      <th>Absenteeism time in hours</th>\n",
              "    </tr>\n",
              "  </thead>\n",
              "  <tbody>\n",
              "    <tr>\n",
              "      <th>0</th>\n",
              "      <td>26</td>\n",
              "      <td>7</td>\n",
              "      <td>3</td>\n",
              "      <td>1</td>\n",
              "      <td>289</td>\n",
              "      <td>36</td>\n",
              "      <td>13</td>\n",
              "      <td>33</td>\n",
              "      <td>240</td>\n",
              "      <td>97</td>\n",
              "      <td>0</td>\n",
              "      <td>1</td>\n",
              "      <td>2</td>\n",
              "      <td>1</td>\n",
              "      <td>0</td>\n",
              "      <td>1</td>\n",
              "      <td>90</td>\n",
              "      <td>172</td>\n",
              "      <td>30</td>\n",
              "      <td>4</td>\n",
              "    </tr>\n",
              "    <tr>\n",
              "      <th>1</th>\n",
              "      <td>0</td>\n",
              "      <td>7</td>\n",
              "      <td>3</td>\n",
              "      <td>1</td>\n",
              "      <td>118</td>\n",
              "      <td>13</td>\n",
              "      <td>18</td>\n",
              "      <td>50</td>\n",
              "      <td>240</td>\n",
              "      <td>97</td>\n",
              "      <td>1</td>\n",
              "      <td>1</td>\n",
              "      <td>1</td>\n",
              "      <td>1</td>\n",
              "      <td>0</td>\n",
              "      <td>0</td>\n",
              "      <td>98</td>\n",
              "      <td>176</td>\n",
              "      <td>31</td>\n",
              "      <td>0</td>\n",
              "    </tr>\n",
              "    <tr>\n",
              "      <th>2</th>\n",
              "      <td>23</td>\n",
              "      <td>7</td>\n",
              "      <td>4</td>\n",
              "      <td>1</td>\n",
              "      <td>179</td>\n",
              "      <td>51</td>\n",
              "      <td>18</td>\n",
              "      <td>38</td>\n",
              "      <td>240</td>\n",
              "      <td>97</td>\n",
              "      <td>0</td>\n",
              "      <td>1</td>\n",
              "      <td>0</td>\n",
              "      <td>1</td>\n",
              "      <td>0</td>\n",
              "      <td>0</td>\n",
              "      <td>89</td>\n",
              "      <td>170</td>\n",
              "      <td>31</td>\n",
              "      <td>2</td>\n",
              "    </tr>\n",
              "    <tr>\n",
              "      <th>3</th>\n",
              "      <td>7</td>\n",
              "      <td>7</td>\n",
              "      <td>5</td>\n",
              "      <td>1</td>\n",
              "      <td>279</td>\n",
              "      <td>5</td>\n",
              "      <td>14</td>\n",
              "      <td>39</td>\n",
              "      <td>240</td>\n",
              "      <td>97</td>\n",
              "      <td>0</td>\n",
              "      <td>1</td>\n",
              "      <td>2</td>\n",
              "      <td>1</td>\n",
              "      <td>1</td>\n",
              "      <td>0</td>\n",
              "      <td>68</td>\n",
              "      <td>168</td>\n",
              "      <td>24</td>\n",
              "      <td>4</td>\n",
              "    </tr>\n",
              "    <tr>\n",
              "      <th>4</th>\n",
              "      <td>23</td>\n",
              "      <td>7</td>\n",
              "      <td>2</td>\n",
              "      <td>1</td>\n",
              "      <td>289</td>\n",
              "      <td>36</td>\n",
              "      <td>13</td>\n",
              "      <td>33</td>\n",
              "      <td>240</td>\n",
              "      <td>97</td>\n",
              "      <td>0</td>\n",
              "      <td>1</td>\n",
              "      <td>2</td>\n",
              "      <td>1</td>\n",
              "      <td>0</td>\n",
              "      <td>1</td>\n",
              "      <td>90</td>\n",
              "      <td>172</td>\n",
              "      <td>30</td>\n",
              "      <td>2</td>\n",
              "    </tr>\n",
              "  </tbody>\n",
              "</table>\n",
              "</div>"
            ],
            "text/plain": [
              "   Reason for absence  Month of absence  Day of the week  Seasons  \\\n",
              "0                  26                 7                3        1   \n",
              "1                   0                 7                3        1   \n",
              "2                  23                 7                4        1   \n",
              "3                   7                 7                5        1   \n",
              "4                  23                 7                2        1   \n",
              "\n",
              "   Transportation expense  Distance from Residence to Work  Service time  Age  \\\n",
              "0                     289                               36            13   33   \n",
              "1                     118                               13            18   50   \n",
              "2                     179                               51            18   38   \n",
              "3                     279                                5            14   39   \n",
              "4                     289                               36            13   33   \n",
              "\n",
              "   Work load Average/day  Hit target  Disciplinary failure  Education  Son  \\\n",
              "0                    240          97                     0          1    2   \n",
              "1                    240          97                     1          1    1   \n",
              "2                    240          97                     0          1    0   \n",
              "3                    240          97                     0          1    2   \n",
              "4                    240          97                     0          1    2   \n",
              "\n",
              "   Social drinker  Social smoker  Pet  Weight  Height  Body mass index  \\\n",
              "0               1              0    1      90     172               30   \n",
              "1               1              0    0      98     176               31   \n",
              "2               1              0    0      89     170               31   \n",
              "3               1              1    0      68     168               24   \n",
              "4               1              0    1      90     172               30   \n",
              "\n",
              "   Absenteeism time in hours  \n",
              "0                          4  \n",
              "1                          0  \n",
              "2                          2  \n",
              "3                          4  \n",
              "4                          2  "
            ]
          },
          "execution_count": 4,
          "metadata": {},
          "output_type": "execute_result"
        }
      ],
      "source": [
        "COLAB_DATA_PATH = Path('/content/work_absenteeism_clean.csv')\n",
        "LOCAL_DATA_PATH = Path('../AbsenteeismAtWork/data/work_absenteeism_clean.csv')\n",
        "\n",
        "def resolve_paths():\n",
        "    in_colab = 'google.colab' in sys.modules\n",
        "    base_dir = None\n",
        "    if in_colab:\n",
        "        try:\n",
        "            from google.colab import drive\n",
        "            drive.mount('/content/drive', force_remount=True)\n",
        "            base_dir = Path('/content/drive/MyDrive/Colab Notebooks/MNA/MLOPS')\n",
        "        except Exception as e:\n",
        "            print('No se pudo montar Drive, usando ruta local. Error:', e)\n",
        "            base_dir = Path('.')\n",
        "    else:\n",
        "        base_dir = Path('.')\n",
        "    models_dir = base_dir / 'models'\n",
        "    mlruns_dir = base_dir / 'mlruns'\n",
        "    models_dir.mkdir(parents=True, exist_ok=True)\n",
        "    mlruns_dir.mkdir(parents=True, exist_ok=True)\n",
        "    return base_dir, models_dir, mlruns_dir\n",
        "\n",
        "BASE_DIR, MODELS_DIR, MLRUNS_DIR = resolve_paths()\n",
        "print('BASE_DIR:', BASE_DIR)\n",
        "print('MODELS_DIR:', MODELS_DIR)\n",
        "print('MLRUNS_DIR:', MLRUNS_DIR)\n",
        "\n",
        "def load_dataset():\n",
        "    try:\n",
        "        if COLAB_DATA_PATH.exists():\n",
        "            df_ = pd.read_csv(COLAB_DATA_PATH)\n",
        "            print('Cargado desde ruta Colab:', COLAB_DATA_PATH)\n",
        "            return df_\n",
        "    except Exception as e:\n",
        "        print('Falló lectura Colab path:', e)\n",
        "    try:\n",
        "        if LOCAL_DATA_PATH.exists():\n",
        "            df_ = pd.read_csv(LOCAL_DATA_PATH)\n",
        "            print('Cargado desde ruta local:', LOCAL_DATA_PATH)\n",
        "            return df_\n",
        "    except Exception as e:\n",
        "        print('Falló lectura Local path:', e)\n",
        "    raise FileNotFoundError('No se encontró el dataset en ninguna ruta conocida.')\n",
        "\n",
        "df = load_dataset()\n",
        "print('Dimensiones:', df.shape)\n",
        "df.head()\n"
      ]
    },
    {
      "cell_type": "code",
      "execution_count": 5,
      "id": "HSvNaPVY1jZR",
      "metadata": {
        "colab": {
          "base_uri": "https://localhost:8080/"
        },
        "id": "HSvNaPVY1jZR",
        "outputId": "e2cd7df0-beed-4612-893c-2ce945531ef5"
      },
      "outputs": [
        {
          "name": "stdout",
          "output_type": "stream",
          "text": [
            "Categoricas: ['Reason for absence', 'Month of absence', 'Day of the week', 'Seasons', 'Education', 'Social drinker', 'Social smoker']\n",
            "Numericas  : ['Reason for absence', 'Month of absence', 'Day of the week', 'Seasons', 'Transportation expense', 'Distance from Residence to Work', 'Service time', 'Age', 'Work load Average/day', 'Hit target', 'Disciplinary failure', 'Education', 'Son', 'Social drinker', 'Social smoker', 'Pet', 'Weight', 'Height', 'Body mass index']\n"
          ]
        }
      ],
      "source": [
        "TARGET = 'Absenteeism time in hours'\n",
        "assert TARGET in df.columns, f\"No se encontró la columna objetivo '{TARGET}'. Columnas: {df.columns.tolist()}\"\n",
        "\n",
        "df = df.drop_duplicates().copy()\n",
        "X = df.drop(columns=[TARGET])\n",
        "y = df[TARGET]\n",
        "\n",
        "cat_cols = X.select_dtypes(include=['object','category']).columns.tolist()\n",
        "num_cols = X.select_dtypes(include=['number']).columns.tolist()\n",
        "\n",
        "if not cat_cols:\n",
        "    candidates = ['Reason for absence','Month of absence','Day of the week','Seasons','Education','Social drinker','Social smoker']\n",
        "    cat_cols = [c for c in candidates if c in X.columns]\n",
        "    for c in cat_cols:\n",
        "        X[c] = X[c].astype('category')\n",
        "\n",
        "print('Categoricas:', cat_cols)\n",
        "print('Numericas  :', num_cols)\n"
      ]
    },
    {
      "cell_type": "code",
      "execution_count": 6,
      "id": "apcoLbOLygWg",
      "metadata": {
        "colab": {
          "base_uri": "https://localhost:8080/"
        },
        "id": "apcoLbOLygWg",
        "outputId": "2180c46e-2199-4ab1-9236-022d2e16022a"
      },
      "outputs": [
        {
          "name": "stdout",
          "output_type": "stream",
          "text": [
            "Split -> Train: (583, 19), Test: (146, 19)\n"
          ]
        }
      ],
      "source": [
        "# Division de Datos\n",
        "RANDOM_STATE = 42\n",
        "X_train, X_test, y_train, y_test = train_test_split(X, y, test_size=0.2, random_state=RANDOM_STATE)\n",
        "print(f\"Split -> Train: {X_train.shape}, Test: {X_test.shape}\")"
      ]
    },
    {
      "cell_type": "code",
      "execution_count": 7,
      "id": "yVqFueu0zRKx",
      "metadata": {
        "id": "yVqFueu0zRKx"
      },
      "outputs": [],
      "source": [
        "# Preprocesamiento\n",
        "numeric_tf = Pipeline([('scaler', StandardScaler())])\n",
        "categorical_tf = Pipeline([('onehot', OneHotEncoder(handle_unknown='ignore'))])\n",
        "preprocessor = ColumnTransformer([\n",
        "    ('num', numeric_tf, num_cols),\n",
        "    ('cat', categorical_tf, cat_cols)\n",
        "])"
      ]
    },
    {
      "cell_type": "code",
      "execution_count": 8,
      "id": "Tt2UkFbT2MSH",
      "metadata": {
        "id": "Tt2UkFbT2MSH"
      },
      "outputs": [],
      "source": [
        "# Funcion de Evaluacion\n",
        "def evaluate_model(name, model, X_train, X_test, y_train, y_test):\n",
        "    pipe = Pipeline([\n",
        "        ('preprocessor', preprocessor),\n",
        "        ('model', model)\n",
        "    ])\n",
        "    pipe.fit(X_train, y_train)\n",
        "    y_pred = pipe.predict(X_test)\n",
        "\n",
        "    mae = mean_absolute_error(y_test, y_pred)\n",
        "    rmse = np.sqrt(mean_squared_error(y_test, y_pred))\n",
        "    r2 = r2_score(y_test, y_pred)\n",
        "\n",
        "    print(f\"\\n🔹 {name} Results:\")\n",
        "    print(f\"MAE:  {mae:.3f}\")\n",
        "    print(f\"RMSE: {rmse:.3f}\")\n",
        "    print(f\"R²:   {r2:.3f}\")\n",
        "\n",
        "    return {'Model': name, 'MAE': mae, 'RMSE': rmse, 'R2': r2, 'ModelObject': pipe}\n",
        "\n",
        "results = []\n"
      ]
    },
    {
      "cell_type": "code",
      "execution_count": 9,
      "id": "B0CVz5Lm2W9D",
      "metadata": {
        "colab": {
          "base_uri": "https://localhost:8080/"
        },
        "id": "B0CVz5Lm2W9D",
        "outputId": "fef5c535-d9c3-4d4b-a35c-3daa2f434241"
      },
      "outputs": [
        {
          "name": "stdout",
          "output_type": "stream",
          "text": [
            "\n",
            "🔹 Random Forest Results:\n",
            "MAE:  2.612\n",
            "RMSE: 3.775\n",
            "R²:   0.344\n"
          ]
        }
      ],
      "source": [
        "# Random Forest\n",
        "rf = RandomForestRegressor(n_estimators=500, max_depth=10, min_samples_split=5, random_state=42)\n",
        "results.append(evaluate_model(\"Random Forest\", rf, X_train, X_test, y_train, y_test))"
      ]
    },
    {
      "cell_type": "code",
      "execution_count": 10,
      "id": "dWjodhKT2W6h",
      "metadata": {
        "colab": {
          "base_uri": "https://localhost:8080/"
        },
        "id": "dWjodhKT2W6h",
        "outputId": "78dddfdf-02d9-47b9-f7a1-dc9311a6da05"
      },
      "outputs": [
        {
          "name": "stdout",
          "output_type": "stream",
          "text": [
            "\n",
            "🔹 CatBoost Results:\n",
            "MAE:  2.709\n",
            "RMSE: 3.816\n",
            "R²:   0.330\n"
          ]
        }
      ],
      "source": [
        "# CatBoost\n",
        "cb = CatBoostRegressor(iterations=500, learning_rate=0.05, depth=8, random_state=42, verbose=0)\n",
        "results.append(evaluate_model(\"CatBoost\", cb, X_train, X_test, y_train, y_test))"
      ]
    },
    {
      "cell_type": "code",
      "execution_count": 11,
      "id": "x7oxpLr_2udO",
      "metadata": {
        "colab": {
          "base_uri": "https://localhost:8080/"
        },
        "id": "x7oxpLr_2udO",
        "outputId": "17fbccba-ed42-4648-c9e2-efaf716e77cc"
      },
      "outputs": [
        {
          "name": "stdout",
          "output_type": "stream",
          "text": [
            "[LightGBM] [Info] Total Bins 359\n",
            "[LightGBM] [Info] Number of data points in the train set: 583, number of used features: 66\n",
            "[LightGBM] [Info] Start training from score 5.166381\n",
            "\n",
            "🔹 LightGBM Results:\n",
            "MAE:  2.993\n",
            "RMSE: 4.316\n",
            "R²:   0.143\n"
          ]
        },
        {
          "name": "stderr",
          "output_type": "stream",
          "text": [
            "c:\\Users\\eduar\\AppData\\Local\\Programs\\Python\\Python313\\Lib\\site-packages\\sklearn\\utils\\validation.py:2749: UserWarning: X does not have valid feature names, but LGBMRegressor was fitted with feature names\n",
            "  warnings.warn(\n"
          ]
        }
      ],
      "source": [
        "# LightGBM\n",
        "from lightgbm import LGBMRegressor\n",
        "\n",
        "lgbm = LGBMRegressor(\n",
        "    n_estimators=500,\n",
        "    learning_rate=0.1,\n",
        "    num_leaves=50,\n",
        "    min_child_samples=5,\n",
        "    subsample=0.8,\n",
        "    colsample_bytree=0.8,\n",
        "    random_state=42,\n",
        "    force_col_wise=True,\n",
        "    boosting_type='gbdt'\n",
        ")\n",
        "\n",
        "\n",
        "results.append(\n",
        "    evaluate_model(\"LightGBM\", lgbm, X_train, X_test, y_train, y_test)\n",
        ")"
      ]
    },
    {
      "cell_type": "code",
      "execution_count": 12,
      "id": "qFlukOK_7niJ",
      "metadata": {
        "colab": {
          "base_uri": "https://localhost:8080/",
          "height": 143
        },
        "id": "qFlukOK_7niJ",
        "outputId": "458babac-08fd-4271-c529-068d1cb1bc37"
      },
      "outputs": [
        {
          "data": {
            "application/vnd.microsoft.datawrangler.viewer.v0+json": {
              "columns": [
                {
                  "name": "index",
                  "rawType": "int64",
                  "type": "integer"
                },
                {
                  "name": "Model",
                  "rawType": "object",
                  "type": "string"
                },
                {
                  "name": "MAE",
                  "rawType": "float64",
                  "type": "float"
                },
                {
                  "name": "RMSE",
                  "rawType": "float64",
                  "type": "float"
                },
                {
                  "name": "R2",
                  "rawType": "float64",
                  "type": "float"
                }
              ],
              "ref": "c5f2100f-f640-46a6-9440-a2c337b36b6f",
              "rows": [
                [
                  "0",
                  "Random Forest",
                  "2.6122969850576707",
                  "3.775264866354744",
                  "0.344119811242249"
                ],
                [
                  "1",
                  "CatBoost",
                  "2.708630440904391",
                  "3.815940655731695",
                  "0.32991038966249364"
                ],
                [
                  "2",
                  "LightGBM",
                  "2.992765474165888",
                  "4.315723069496192",
                  "0.14288953343251853"
                ]
              ],
              "shape": {
                "columns": 4,
                "rows": 3
              }
            },
            "text/html": [
              "<div>\n",
              "<style scoped>\n",
              "    .dataframe tbody tr th:only-of-type {\n",
              "        vertical-align: middle;\n",
              "    }\n",
              "\n",
              "    .dataframe tbody tr th {\n",
              "        vertical-align: top;\n",
              "    }\n",
              "\n",
              "    .dataframe thead th {\n",
              "        text-align: right;\n",
              "    }\n",
              "</style>\n",
              "<table border=\"1\" class=\"dataframe\">\n",
              "  <thead>\n",
              "    <tr style=\"text-align: right;\">\n",
              "      <th></th>\n",
              "      <th>Model</th>\n",
              "      <th>MAE</th>\n",
              "      <th>RMSE</th>\n",
              "      <th>R2</th>\n",
              "    </tr>\n",
              "  </thead>\n",
              "  <tbody>\n",
              "    <tr>\n",
              "      <th>0</th>\n",
              "      <td>Random Forest</td>\n",
              "      <td>2.612297</td>\n",
              "      <td>3.775265</td>\n",
              "      <td>0.34412</td>\n",
              "    </tr>\n",
              "    <tr>\n",
              "      <th>1</th>\n",
              "      <td>CatBoost</td>\n",
              "      <td>2.708630</td>\n",
              "      <td>3.815941</td>\n",
              "      <td>0.32991</td>\n",
              "    </tr>\n",
              "    <tr>\n",
              "      <th>2</th>\n",
              "      <td>LightGBM</td>\n",
              "      <td>2.992765</td>\n",
              "      <td>4.315723</td>\n",
              "      <td>0.14289</td>\n",
              "    </tr>\n",
              "  </tbody>\n",
              "</table>\n",
              "</div>"
            ],
            "text/plain": [
              "           Model       MAE      RMSE       R2\n",
              "0  Random Forest  2.612297  3.775265  0.34412\n",
              "1       CatBoost  2.708630  3.815941  0.32991\n",
              "2       LightGBM  2.992765  4.315723  0.14289"
            ]
          },
          "metadata": {},
          "output_type": "display_data"
        }
      ],
      "source": [
        "# Resultados de Modelos\n",
        "results_df = pd.DataFrame(results).drop(columns=['ModelObject'])\n",
        "display(results_df.sort_values(by='RMSE'))"
      ]
    },
    {
      "cell_type": "code",
      "execution_count": 13,
      "id": "H1MImCjV73oD",
      "metadata": {
        "colab": {
          "base_uri": "https://localhost:8080/",
          "height": 594
        },
        "id": "H1MImCjV73oD",
        "outputId": "575e906f-e446-4008-9b37-980a7893d226"
      },
      "outputs": [
        {
          "name": "stderr",
          "output_type": "stream",
          "text": [
            "C:\\Users\\eduar\\AppData\\Local\\Temp\\ipykernel_26008\\623384699.py:2: FutureWarning: \n",
            "\n",
            "Passing `palette` without assigning `hue` is deprecated and will be removed in v0.14.0. Assign the `x` variable to `hue` and set `legend=False` for the same effect.\n",
            "\n",
            "  sns.barplot(data=results_df, x='Model', y='RMSE', palette='coolwarm')\n"
          ]
        },
        {
          "data": {
            "image/png": "[encoded data removed]",
            "text/plain": [
              "<Figure size 800x500 with 1 Axes>"
            ]
          },
          "metadata": {},
          "output_type": "display_data"
        }
      ],
      "source": [
        "plt.figure(figsize=(8,5))\n",
        "sns.barplot(data=results_df, x='Model', y='RMSE', palette='coolwarm')\n",
        "plt.title('Comparación de Modelos por RMSE (menor es mejor)')\n",
        "plt.xlabel('Modelo')\n",
        "plt.ylabel('RMSE')\n",
        "plt.tight_layout()\n",
        "plt.show()"
      ]
    },
    {
      "cell_type": "code",
      "execution_count": 14,
      "id": "hGMjXDLX95BE",
      "metadata": {
        "colab": {
          "base_uri": "https://localhost:8080/"
        },
        "id": "hGMjXDLX95BE",
        "outputId": "40acf4cd-922a-4cfb-d609-51d170ee3a93"
      },
      "outputs": [
        {
          "name": "stdout",
          "output_type": "stream",
          "text": [
            "Iniciando RandomizedSearchCV\n",
            "Fitting 3 folds for each of 10 candidates, totalling 30 fits\n",
            "\n",
            " Mejores parámetros encontrados:\n",
            "  model__max_depth: 8\n",
            "  model__min_samples_leaf: 2\n",
            "  model__min_samples_split: 5\n",
            "  model__n_estimators: 393\n",
            "\n",
            " Mejor RMSE promedio (CV): 3.4985\n",
            "Modelo -> MAE: 2.588 | RMSE: 3.723 | R²: 0.362\n",
            " Métricas registradas en MLflow bajo el run 'Modelo'.\n",
            "\n",
            " RandomForest (tuned): {'MAE': 2.588320846474571, 'RMSE': np.float64(3.7229925848112253), 'R2': 0.36215669324731126}\n"
          ]
        }
      ],
      "source": [
        "# Ajustando Hiperparametros al mejor modelo:\n",
        "from scipy.stats import randint\n",
        "from sklearn.model_selection import RandomizedSearchCV\n",
        "from sklearn.pipeline import Pipeline\n",
        "from sklearn.ensemble import RandomForestRegressor\n",
        "\n",
        "param_dist = {\n",
        "    'model__n_estimators': randint(100, 400),\n",
        "    'model__max_depth': [8, 10, 12, None],\n",
        "    'model__min_samples_split': randint(2, 6),\n",
        "    'model__min_samples_leaf': randint(1, 3)\n",
        "}\n",
        "\n",
        "pipe_rf = Pipeline([\n",
        "    ('prep', preprocessor),\n",
        "    ('model', RandomForestRegressor(random_state=RANDOM_STATE))\n",
        "])\n",
        "\n",
        "rs_rf = RandomizedSearchCV(\n",
        "    estimator=pipe_rf,\n",
        "    param_distributions=param_dist,\n",
        "    n_iter=10,\n",
        "    scoring='neg_root_mean_squared_error',\n",
        "    cv=3,\n",
        "    n_jobs=-1,\n",
        "    random_state=RANDOM_STATE,\n",
        "    verbose=1\n",
        ")\n",
        "\n",
        "print(\"Iniciando RandomizedSearchCV\")\n",
        "rs_rf.fit(X_train, y_train)\n",
        "\n",
        "best_params = rs_rf.best_params_\n",
        "best_cv_rmse = -rs_rf.best_score_\n",
        "\n",
        "print(\"\\n Mejores parámetros encontrados:\")\n",
        "for k, v in best_params.items():\n",
        "    print(f\"  {k}: {v}\")\n",
        "print(f\"\\n Mejor RMSE promedio (CV): {best_cv_rmse:.4f}\")\n",
        "\n",
        "\n",
        "best_rf = rs_rf.best_estimator_\n",
        "pred_best = best_rf.predict(X_test)\n",
        "best_metrics = evaluate_regression(y_test, pred_best)\n",
        "print(\"\\n RandomForest (tuned):\", best_metrics)\n"
      ]
    },
    {
      "cell_type": "code",
      "execution_count": 15,
      "id": "-wyMts9z_5bn",
      "metadata": {
        "colab": {
          "base_uri": "https://localhost:8080/"
        },
        "id": "-wyMts9z_5bn",
        "outputId": "dd6b4b59-406d-4e75-df08-9b1c83dad2f6"
      },
      "outputs": [
        {
          "name": "stdout",
          "output_type": "stream",
          "text": [
            "\n",
            "Rendimiento final en datos:\n",
            "MAE:  2.588\n",
            "RMSE: 3.723\n",
            "R²:   0.362\n"
          ]
        }
      ],
      "source": [
        "# Resultados con Hiperparametros\n",
        "best_rf = rs_rf.best_estimator_\n",
        "y_pred_best = best_rf.predict(X_test)\n",
        "\n",
        "mae_best = mean_absolute_error(y_test, y_pred_best)\n",
        "rmse_best = np.sqrt(mean_squared_error(y_test, y_pred_best))\n",
        "r2_best = r2_score(y_test, y_pred_best)\n",
        "\n",
        "print(\"\\nRendimiento final en datos:\")\n",
        "print(f\"MAE:  {mae_best:.3f}\")\n",
        "print(f\"RMSE: {rmse_best:.3f}\")\n",
        "print(f\"R²:   {r2_best:.3f}\")\n",
        "\n",
        "results.append({\n",
        "    'Model': 'Random Forest (Tuned)',\n",
        "    'MAE': mae_best,\n",
        "    'RMSE': rmse_best,\n",
        "    'R2': r2_best,\n",
        "    'ModelObject': best_rf\n",
        "})\n"
      ]
    },
    {
      "cell_type": "code",
      "execution_count": 16,
      "id": "7sZ5hoDnEhw_",
      "metadata": {
        "colab": {
          "base_uri": "https://localhost:8080/"
        },
        "id": "7sZ5hoDnEhw_",
        "outputId": "08a441f2-debc-47c1-ecce-179599229d63"
      },
      "outputs": [
        {
          "data": {
            "text/plain": [
              "['Random Forest', 'CatBoost', 'LightGBM', 'Random Forest (Tuned)']"
            ]
          },
          "execution_count": 16,
          "metadata": {},
          "output_type": "execute_result"
        }
      ],
      "source": [
        "[i[\"Model\"] for i in results]\n"
      ]
    },
    {
      "cell_type": "code",
      "execution_count": 17,
      "id": "HndeJQOBDgh9",
      "metadata": {
        "colab": {
          "base_uri": "https://localhost:8080/"
        },
        "id": "HndeJQOBDgh9",
        "outputId": "a5b9ec03-fc9a-40f5-ace5-cfda82b9956b"
      },
      "outputs": [
        {
          "name": "stdout",
          "output_type": "stream",
          "text": [
            "\n",
            "Comparación :\n",
            "• RMSE Base : 3.775\n",
            "• RMSE Tuned: 3.723\n",
            "• Mejora relativa en RMSE: 1.38%\n",
            "\n",
            "• MAE Base : 2.612\n",
            "• MAE Tuned: 2.588\n",
            "• Mejora relativa en MAE: 0.92%\n",
            "\n",
            "• R² Base : 0.344\n",
            "• R² Tuned: 0.362\n",
            "• Cambio en R²: 1.80 puntos porcentuales\n"
          ]
        }
      ],
      "source": [
        "# Comparacion con modelo base y el nuevo:\n",
        "\n",
        "\n",
        "rf_base = next(r for r in results if r[\"Model\"] == \"Random Forest\")\n",
        "rf_tuned = next(r for r in results if r[\"Model\"] == \"Random Forest (Tuned)\")\n",
        "\n",
        "\n",
        "improvement_rmse = ((rf_base[\"RMSE\"] - rf_tuned[\"RMSE\"]) / rf_base[\"RMSE\"]) * 100\n",
        "improvement_mae = ((rf_base[\"MAE\"] - rf_tuned[\"MAE\"]) / rf_base[\"MAE\"]) * 100\n",
        "improvement_r2 = (rf_tuned[\"R2\"] - rf_base[\"R2\"]) * 100\n",
        "\n",
        "print(\"\\nComparación :\")\n",
        "print(f\"• RMSE Base : {rf_base['RMSE']:.3f}\")\n",
        "print(f\"• RMSE Tuned: {rf_tuned['RMSE']:.3f}\")\n",
        "print(f\"• Mejora relativa en RMSE: {improvement_rmse:.2f}%\")\n",
        "\n",
        "print(f\"\\n• MAE Base : {rf_base['MAE']:.3f}\")\n",
        "print(f\"• MAE Tuned: {rf_tuned['MAE']:.3f}\")\n",
        "print(f\"• Mejora relativa en MAE: {improvement_mae:.2f}%\")\n",
        "\n",
        "print(f\"\\n• R² Base : {rf_base['R2']:.3f}\")\n",
        "print(f\"• R² Tuned: {rf_tuned['R2']:.3f}\")\n",
        "print(f\"• Cambio en R²: {improvement_r2:.2f} puntos porcentuales\")\n"
      ]
    },
    {
      "cell_type": "code",
      "execution_count": 18,
      "id": "J35YP7zTAW8n",
      "metadata": {
        "colab": {
          "base_uri": "https://localhost:8080/",
          "height": 702
        },
        "id": "J35YP7zTAW8n",
        "outputId": "95f10caf-f13d-4b91-fe7e-36af0b22c795"
      },
      "outputs": [
        {
          "name": "stderr",
          "output_type": "stream",
          "text": [
            "C:\\Users\\eduar\\AppData\\Local\\Temp\\ipykernel_26008\\2152176161.py:17: FutureWarning: \n",
            "\n",
            "Passing `palette` without assigning `hue` is deprecated and will be removed in v0.14.0. Assign the `x` variable to `hue` and set `legend=False` for the same effect.\n",
            "\n",
            "  sns.barplot(data=metrics_df, x='Modelo', y='RMSE', palette='mako')\n"
          ]
        },
        {
          "data": {
            "image/png": "[encoded data removed]",
            "text/plain": [
              "<Figure size 800x500 with 1 Axes>"
            ]
          },
          "metadata": {},
          "output_type": "display_data"
        },
        {
          "data": {
            "application/vnd.microsoft.datawrangler.viewer.v0+json": {
              "columns": [
                {
                  "name": "index",
                  "rawType": "int64",
                  "type": "integer"
                },
                {
                  "name": "Modelo",
                  "rawType": "object",
                  "type": "string"
                },
                {
                  "name": "MAE",
                  "rawType": "float64",
                  "type": "float"
                },
                {
                  "name": "RMSE",
                  "rawType": "float64",
                  "type": "float"
                },
                {
                  "name": "R²",
                  "rawType": "float64",
                  "type": "float"
                }
              ],
              "ref": "1bd03a73-03a0-4e6d-8770-917f0906f438",
              "rows": [
                [
                  "0",
                  "Random Forest (Base)",
                  "2.6122969850576707",
                  "3.775264866354744",
                  "0.344119811242249"
                ],
                [
                  "1",
                  "Random Forest (Tuned)",
                  "2.588320846474571",
                  "3.7229925848112253",
                  "0.36215669324731126"
                ]
              ],
              "shape": {
                "columns": 4,
                "rows": 2
              }
            },
            "text/html": [
              "<div>\n",
              "<style scoped>\n",
              "    .dataframe tbody tr th:only-of-type {\n",
              "        vertical-align: middle;\n",
              "    }\n",
              "\n",
              "    .dataframe tbody tr th {\n",
              "        vertical-align: top;\n",
              "    }\n",
              "\n",
              "    .dataframe thead th {\n",
              "        text-align: right;\n",
              "    }\n",
              "</style>\n",
              "<table border=\"1\" class=\"dataframe\">\n",
              "  <thead>\n",
              "    <tr style=\"text-align: right;\">\n",
              "      <th></th>\n",
              "      <th>Modelo</th>\n",
              "      <th>MAE</th>\n",
              "      <th>RMSE</th>\n",
              "      <th>R²</th>\n",
              "    </tr>\n",
              "  </thead>\n",
              "  <tbody>\n",
              "    <tr>\n",
              "      <th>0</th>\n",
              "      <td>Random Forest (Base)</td>\n",
              "      <td>2.612297</td>\n",
              "      <td>3.775265</td>\n",
              "      <td>0.344120</td>\n",
              "    </tr>\n",
              "    <tr>\n",
              "      <th>1</th>\n",
              "      <td>Random Forest (Tuned)</td>\n",
              "      <td>2.588321</td>\n",
              "      <td>3.722993</td>\n",
              "      <td>0.362157</td>\n",
              "    </tr>\n",
              "  </tbody>\n",
              "</table>\n",
              "</div>"
            ],
            "text/plain": [
              "                  Modelo       MAE      RMSE        R²\n",
              "0   Random Forest (Base)  2.612297  3.775265  0.344120\n",
              "1  Random Forest (Tuned)  2.588321  3.722993  0.362157"
            ]
          },
          "metadata": {},
          "output_type": "display_data"
        }
      ],
      "source": [
        "# Comparacion con modelo base y el nuevo:\n",
        "\n",
        "\n",
        "rf_base = next(r for r in results if r[\"Model\"] == \"Random Forest\")\n",
        "base_mae = rf_base['MAE']\n",
        "base_rmse = rf_base['RMSE']\n",
        "base_r2 = rf_base['R2']\n",
        "\n",
        "metrics_df = pd.DataFrame({\n",
        "    'Modelo': ['Random Forest (Base)', 'Random Forest (Tuned)'],\n",
        "    'MAE': [base_mae, mae_best],\n",
        "    'RMSE': [base_rmse, rmse_best],\n",
        "    'R²': [base_r2, r2_best]\n",
        "})\n",
        "\n",
        "plt.figure(figsize=(8,5))\n",
        "sns.barplot(data=metrics_df, x='Modelo', y='RMSE', palette='mako')\n",
        "plt.title('Comparación del RMSE antes y después del ajuste')\n",
        "plt.ylabel('RMSE (menor es mejor)')\n",
        "plt.tight_layout()\n",
        "plt.show()\n",
        "\n",
        "display(metrics_df)"
      ]
    },
    {
      "cell_type": "code",
      "execution_count": 19,
      "id": "1712524d",
      "metadata": {},
      "outputs": [
        {
          "name": "stderr",
          "output_type": "stream",
          "text": [
            "2025/10/12 17:43:34 WARNING mlflow.models.model: `artifact_path` is deprecated. Please use `name` instead.\n",
            "2025/10/12 17:43:37 WARNING mlflow.models.model: Model logged without a signature and input example. Please set `input_example` parameter when logging the model to auto infer the model signature.\n"
          ]
        },
        {
          "name": "stdout",
          "output_type": "stream",
          "text": [
            " Modelo registrado en experimento 'MLflow_Quickstart'\n",
            "Tracking URI: file:///C:/Users/eduar/operaciones-de-aprendizaje-automatico-equipo59/scripts/mlruns\n"
          ]
        }
      ],
      "source": [
        "# === Registro en MLflow (config adaptable) ===\n",
        "if MLflow_AVAILABLE:\n",
        "    try:\n",
        "        import os\n",
        "        from pathlib import Path\n",
        "\n",
        "        # Obtiene tracking URI desde variable de entorno o crea una local relativa\n",
        "        tracking_uri = os.getenv(\n",
        "            \"MLFLOW_TRACKING_URI\",\n",
        "            \"file://\" + str(Path(\"mlruns\").resolve()).replace(\"\\\\\", \"/\")\n",
        "        )\n",
        "\n",
        "        #  Conexión al experimento (si no existe, MLflow lo crea)\n",
        "        mlflow.set_tracking_uri(tracking_uri)\n",
        "        mlflow.set_experiment(\"MLflow_Quickstart\")\n",
        "\n",
        "        # Nuevo run para registrar tu modelo\n",
        "        with mlflow.start_run(run_name=\"RandomForest_Tuned\"):\n",
        "            mlflow.log_params(best_params)\n",
        "            mlflow.log_metrics({\n",
        "                \"MAE_Test\": best_metrics[\"MAE\"],\n",
        "                \"RMSE_Test\": best_metrics[\"RMSE\"],\n",
        "                \"R2_Test\": best_metrics[\"R2\"]\n",
        "            })\n",
        "            mlflow.sklearn.log_model(best_rf, \"RandomForest_Tuned\")\n",
        "\n",
        "        print(f\" Modelo registrado en experimento 'MLflow_Quickstart'\")\n",
        "        print(f\"Tracking URI: {tracking_uri}\")\n",
        "\n",
        "    except Exception as e:\n",
        "        print(\" No se pudo registrar en MLflow:\", e)\n",
        "else:\n",
        "    print(\" MLflow no está disponible. Saltando registro.\")"
      ]
    }
  ],
  "metadata": {
    "colab": {
      "provenance": []
    },
    "kernelspec": {
      "display_name": "Python 3",
      "name": "python3"
    },
    "language_info": {
      "codemirror_mode": {
        "name": "ipython",
        "version": 3
      },
      "file_extension": ".py",
      "mimetype": "text/x-python",
      "name": "python",
      "nbconvert_exporter": "python",
      "pygments_lexer": "ipython3",
      "version": "3.13.7"
    }
  },
  "nbformat": 4,
  "nbformat_minor": 5
}
